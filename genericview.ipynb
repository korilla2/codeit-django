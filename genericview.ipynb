{
 "cells": [
  {
   "cell_type": "markdown",
   "metadata": {},
   "source": [
    "# 제네릭 뷰"
   ]
  },
  {
   "cell_type": "markdown",
   "metadata": {},
   "source": [
    "## Base Views\n",
    "- TemplateView\n",
    "- RedirectView\n",
    "- 템플릿을 렌더해서 결과로 돌려주거나 다른 URL로 리디렉션 하는등의 기본적인 기능을 하는 뷰"
   ]
  },
  {
   "cell_type": "markdown",
   "metadata": {},
   "source": [
    "## Display Views\n",
    "- ListView\n",
    "- DetailView\n",
    "- 데이터를 보여주는 기능을 하는 뷰"
   ]
  },
  {
   "cell_type": "markdown",
   "metadata": {},
   "source": [
    "## Edit Views\n",
    "- FormView\n",
    "- CreateView\n",
    "- UpdateView\n",
    "- DeleteView\n",
    "- 데이터 생성, 수정, 삭제등의 기능을 하는 뷰"
   ]
  },
  {
   "cell_type": "markdown",
   "metadata": {},
   "source": [
    "## Date Views\n",
    "- YearArchiveView\n",
    "- MonthArchiveView\n",
    "- DayArchiveView\n",
    "- TodayArchiveView\n",
    "- 날짜를 중심으로 데이터를 조회하는 기능을 하는 뷰"
   ]
  }
 ],
 "metadata": {
  "interpreter": {
   "hash": "92958728688bd9f1d4bf0f7658858796d33b81860404c07bc8061f0f198b9b69"
  },
  "kernelspec": {
   "display_name": "Python 3.9.4 64-bit ('venv': pyenv)",
   "language": "python",
   "name": "python3"
  },
  "language_info": {
   "name": "python",
   "version": "3.9.4"
  },
  "orig_nbformat": 4
 },
 "nbformat": 4,
 "nbformat_minor": 2
}
